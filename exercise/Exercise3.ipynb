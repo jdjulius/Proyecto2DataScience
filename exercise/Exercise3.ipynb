{
 "cells": [
  {
   "cell_type": "markdown",
   "source": [
    " # Ejercicio Nº 3\n",
    "Escribir programa que genere y muestre por pantalla un DataFrame con los datos de la siguiente tabla:\n",
    "\n",
    "Mes | Ventas |  Gastos\n",
    "----|---------|--------\n",
    "Enero |  30500  | 22000\n",
    "Febrero  | 35600|  23450\n",
    "Marzo |  28300 |  18100\n",
    "Abril |  33900 |  35700\n",
    "Mayo |  42500 |  32450\n",
    "\n",
    "A continuación, generar nuevas columna:\n",
    "1. Columna 1 = Gasto/Ventas*100.\n",
    "2. Columna 2 = Si Ventas>= 30000, imprimir “Meta Superada”, caso contrario imprimir “Meta no Superada”.\n",
    "3. Columna 3 = Si Gasto>Ventas, calcular el sobre gasto.\n",
    "4. Obtener el total de las ventas de los últimos 3 meses\n",
    "5. Obtener el total de gastos de febrero a abril\n",
    "\n"
   ],
   "metadata": {
    "collapsed": false
   }
  },
  {
   "cell_type": "code",
   "execution_count": 1,
   "outputs": [],
   "source": [
    "import pandas as pd"
   ],
   "metadata": {
    "collapsed": false,
    "ExecuteTime": {
     "end_time": "2023-07-16T02:50:37.384178300Z",
     "start_time": "2023-07-16T02:50:36.852295900Z"
    }
   }
  },
  {
   "cell_type": "code",
   "execution_count": 2,
   "outputs": [],
   "source": [
    "# Crear el DataFrame con los datos de la tabla\n",
    "data = {\n",
    "    'Mes': ['Enero', 'Febrero', 'Marzo', 'Abril', 'Mayo'],\n",
    "    'Ventas': [30500, 35600, 28300, 33900, 42500],\n",
    "    'Gastos': [22000, 23450, 18100, 35700, 32450]\n",
    "}"
   ],
   "metadata": {
    "collapsed": false,
    "ExecuteTime": {
     "end_time": "2023-07-16T02:50:39.866931800Z",
     "start_time": "2023-07-16T02:50:39.855406800Z"
    }
   }
  },
  {
   "cell_type": "code",
   "execution_count": 3,
   "outputs": [],
   "source": [
    "df = pd.DataFrame(data)\n"
   ],
   "metadata": {
    "collapsed": false,
    "ExecuteTime": {
     "end_time": "2023-07-16T02:50:46.917912100Z",
     "start_time": "2023-07-16T02:50:46.909914700Z"
    }
   }
  },
  {
   "cell_type": "code",
   "execution_count": 4,
   "outputs": [],
   "source": [
    "df['Columna 1'] = (df['Gastos'] / df['Ventas']) * 100"
   ],
   "metadata": {
    "collapsed": false,
    "ExecuteTime": {
     "end_time": "2023-07-16T02:51:20.205091600Z",
     "start_time": "2023-07-16T02:51:20.185858800Z"
    }
   }
  },
  {
   "cell_type": "code",
   "execution_count": 5,
   "outputs": [],
   "source": [
    "df.loc[df['Ventas'] >= 30000, 'Columna 2'] = 'Meta Superada'\n",
    "df.loc[df['Ventas'] < 30000, 'Columna 2'] = 'Meta no Superada'"
   ],
   "metadata": {
    "collapsed": false,
    "ExecuteTime": {
     "end_time": "2023-07-16T02:51:21.454466500Z",
     "start_time": "2023-07-16T02:51:21.449466100Z"
    }
   }
  },
  {
   "cell_type": "code",
   "execution_count": 6,
   "outputs": [],
   "source": [
    "df['Columna 3'] = df['Gastos'] - df['Ventas']\n",
    "df.loc[df['Columna 3'] <= 0, 'Columna 3'] = 0"
   ],
   "metadata": {
    "collapsed": false,
    "ExecuteTime": {
     "end_time": "2023-07-16T02:51:23.092458600Z",
     "start_time": "2023-07-16T02:51:23.064912400Z"
    }
   }
  },
  {
   "cell_type": "code",
   "execution_count": 8,
   "outputs": [
    {
     "data": {
      "text/plain": "104700"
     },
     "execution_count": 8,
     "metadata": {},
     "output_type": "execute_result"
    }
   ],
   "source": [
    "total_ventas_ultimos_3_meses = df['Ventas'].tail(3).sum()\n",
    "total_ventas_ultimos_3_meses"
   ],
   "metadata": {
    "collapsed": false,
    "ExecuteTime": {
     "end_time": "2023-07-16T02:52:07.695589200Z",
     "start_time": "2023-07-16T02:52:07.683527400Z"
    }
   }
  },
  {
   "cell_type": "code",
   "execution_count": 9,
   "outputs": [
    {
     "data": {
      "text/plain": "77250"
     },
     "execution_count": 9,
     "metadata": {},
     "output_type": "execute_result"
    }
   ],
   "source": [
    "total_gastos_febrero_abril = df.loc[1:3, 'Gastos'].sum()\n",
    "total_gastos_febrero_abril"
   ],
   "metadata": {
    "collapsed": false,
    "ExecuteTime": {
     "end_time": "2023-07-16T02:52:12.876393700Z",
     "start_time": "2023-07-16T02:52:12.856635200Z"
    }
   }
  },
  {
   "cell_type": "code",
   "execution_count": 10,
   "outputs": [
    {
     "name": "stdout",
     "output_type": "stream",
     "text": [
      "       Mes  Ventas  Gastos   Columna 1         Columna 2  Columna 3\n",
      "0    Enero   30500   22000   72.131148     Meta Superada          0\n",
      "1  Febrero   35600   23450   65.870787     Meta Superada          0\n",
      "2    Marzo   28300   18100   63.957597  Meta no Superada          0\n",
      "3    Abril   33900   35700  105.309735     Meta Superada       1800\n",
      "4     Mayo   42500   32450   76.352941     Meta Superada          0\n"
     ]
    }
   ],
   "source": [
    "print(df)"
   ],
   "metadata": {
    "collapsed": false,
    "ExecuteTime": {
     "end_time": "2023-07-16T02:52:22.742205800Z",
     "start_time": "2023-07-16T02:52:22.719501700Z"
    }
   }
  },
  {
   "cell_type": "code",
   "execution_count": null,
   "outputs": [],
   "source": [],
   "metadata": {
    "collapsed": false
   }
  }
 ],
 "metadata": {
  "kernelspec": {
   "display_name": "Python 3",
   "language": "python",
   "name": "python3"
  },
  "language_info": {
   "codemirror_mode": {
    "name": "ipython",
    "version": 2
   },
   "file_extension": ".py",
   "mimetype": "text/x-python",
   "name": "python",
   "nbconvert_exporter": "python",
   "pygments_lexer": "ipython2",
   "version": "2.7.6"
  }
 },
 "nbformat": 4,
 "nbformat_minor": 0
}
