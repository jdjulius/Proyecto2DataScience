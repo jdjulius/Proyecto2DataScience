{
 "cells": [
  {
   "cell_type": "markdown",
   "source": [
    "# Ejercicio Nº 2\n",
    "Generar un Notebook Colab con código y resultados, que contiene información de autos de un periodo de tiempo. Resolver los siguientes:\n",
    "- Limpieza y tratamiento de las variables (Según corresponda)\n",
    "- Generar 5 nuevas variables aplicando los siguientes criterios con las\n",
    "variables numéricas:\n",
    "\n",
    "1. Log10(var1/var2)\n",
    "2. Sqrt(var1)*exp(var2)/200\n",
    "3. Si var 1 > var 2 → 5, caso contrario 3\n",
    "4. 1/logn(var1/var2)*100\n",
    "5. var2**2/var1"
   ],
   "metadata": {
    "collapsed": false
   }
  },
  {
   "cell_type": "code",
   "execution_count": 11,
   "outputs": [],
   "source": [
    "import pandas as pd\n",
    "import numpy as np"
   ],
   "metadata": {
    "collapsed": false,
    "ExecuteTime": {
     "end_time": "2023-07-23T02:49:00.617439300Z",
     "start_time": "2023-07-23T02:49:00.601311Z"
    }
   }
  },
  {
   "cell_type": "code",
   "execution_count": 5,
   "outputs": [
    {
     "data": {
      "text/plain": "     Millas_Por_Galon  Cilindros Pais_Origen  Peso_En_Libras  Desplazamiento  \\\n0                18.0          8         USA            3504           307.0   \n1                15.0          8         USA            3693           350.0   \n2                18.0          8         USA            3436           318.0   \n3                16.0          8         USA            3433           304.0   \n4                17.0          8         USA            3449           302.0   \n..                ...        ...         ...             ...             ...   \n401              27.0          4         USA            2790           140.0   \n402              44.0          4      Europe            2130            97.0   \n403              32.0          4         USA            2295           135.0   \n404              28.0          4         USA            2625           120.0   \n405              31.0          4         USA            2720           119.0   \n\n     Aceleracion                     Nombre       Anyo  Caballo_De_Fuerza  \n0           12.0  chevrolet chevelle malibu  1/01/1970              130.0  \n1           11.5          buick skylark 320  1/01/1970              165.0  \n2           11.0         plymouth satellite  1/01/1970              150.0  \n3           12.0              amc rebel sst  1/01/1970              150.0  \n4           10.5                ford torino  1/01/1970              140.0  \n..           ...                        ...        ...                ...  \n401         15.6            ford mustang gl  1/01/1982               86.0  \n402         24.6                  vw pickup  1/01/1982               52.0  \n403         11.6              dodge rampage  1/01/1982               84.0  \n404         18.6                ford ranger  1/01/1982               79.0  \n405         19.4                 chevy s-10  1/01/1982               82.0  \n\n[406 rows x 9 columns]",
      "text/html": "<div>\n<style scoped>\n    .dataframe tbody tr th:only-of-type {\n        vertical-align: middle;\n    }\n\n    .dataframe tbody tr th {\n        vertical-align: top;\n    }\n\n    .dataframe thead th {\n        text-align: right;\n    }\n</style>\n<table border=\"1\" class=\"dataframe\">\n  <thead>\n    <tr style=\"text-align: right;\">\n      <th></th>\n      <th>Millas_Por_Galon</th>\n      <th>Cilindros</th>\n      <th>Pais_Origen</th>\n      <th>Peso_En_Libras</th>\n      <th>Desplazamiento</th>\n      <th>Aceleracion</th>\n      <th>Nombre</th>\n      <th>Anyo</th>\n      <th>Caballo_De_Fuerza</th>\n    </tr>\n  </thead>\n  <tbody>\n    <tr>\n      <th>0</th>\n      <td>18.0</td>\n      <td>8</td>\n      <td>USA</td>\n      <td>3504</td>\n      <td>307.0</td>\n      <td>12.0</td>\n      <td>chevrolet chevelle malibu</td>\n      <td>1/01/1970</td>\n      <td>130.0</td>\n    </tr>\n    <tr>\n      <th>1</th>\n      <td>15.0</td>\n      <td>8</td>\n      <td>USA</td>\n      <td>3693</td>\n      <td>350.0</td>\n      <td>11.5</td>\n      <td>buick skylark 320</td>\n      <td>1/01/1970</td>\n      <td>165.0</td>\n    </tr>\n    <tr>\n      <th>2</th>\n      <td>18.0</td>\n      <td>8</td>\n      <td>USA</td>\n      <td>3436</td>\n      <td>318.0</td>\n      <td>11.0</td>\n      <td>plymouth satellite</td>\n      <td>1/01/1970</td>\n      <td>150.0</td>\n    </tr>\n    <tr>\n      <th>3</th>\n      <td>16.0</td>\n      <td>8</td>\n      <td>USA</td>\n      <td>3433</td>\n      <td>304.0</td>\n      <td>12.0</td>\n      <td>amc rebel sst</td>\n      <td>1/01/1970</td>\n      <td>150.0</td>\n    </tr>\n    <tr>\n      <th>4</th>\n      <td>17.0</td>\n      <td>8</td>\n      <td>USA</td>\n      <td>3449</td>\n      <td>302.0</td>\n      <td>10.5</td>\n      <td>ford torino</td>\n      <td>1/01/1970</td>\n      <td>140.0</td>\n    </tr>\n    <tr>\n      <th>...</th>\n      <td>...</td>\n      <td>...</td>\n      <td>...</td>\n      <td>...</td>\n      <td>...</td>\n      <td>...</td>\n      <td>...</td>\n      <td>...</td>\n      <td>...</td>\n    </tr>\n    <tr>\n      <th>401</th>\n      <td>27.0</td>\n      <td>4</td>\n      <td>USA</td>\n      <td>2790</td>\n      <td>140.0</td>\n      <td>15.6</td>\n      <td>ford mustang gl</td>\n      <td>1/01/1982</td>\n      <td>86.0</td>\n    </tr>\n    <tr>\n      <th>402</th>\n      <td>44.0</td>\n      <td>4</td>\n      <td>Europe</td>\n      <td>2130</td>\n      <td>97.0</td>\n      <td>24.6</td>\n      <td>vw pickup</td>\n      <td>1/01/1982</td>\n      <td>52.0</td>\n    </tr>\n    <tr>\n      <th>403</th>\n      <td>32.0</td>\n      <td>4</td>\n      <td>USA</td>\n      <td>2295</td>\n      <td>135.0</td>\n      <td>11.6</td>\n      <td>dodge rampage</td>\n      <td>1/01/1982</td>\n      <td>84.0</td>\n    </tr>\n    <tr>\n      <th>404</th>\n      <td>28.0</td>\n      <td>4</td>\n      <td>USA</td>\n      <td>2625</td>\n      <td>120.0</td>\n      <td>18.6</td>\n      <td>ford ranger</td>\n      <td>1/01/1982</td>\n      <td>79.0</td>\n    </tr>\n    <tr>\n      <th>405</th>\n      <td>31.0</td>\n      <td>4</td>\n      <td>USA</td>\n      <td>2720</td>\n      <td>119.0</td>\n      <td>19.4</td>\n      <td>chevy s-10</td>\n      <td>1/01/1982</td>\n      <td>82.0</td>\n    </tr>\n  </tbody>\n</table>\n<p>406 rows × 9 columns</p>\n</div>"
     },
     "execution_count": 5,
     "metadata": {},
     "output_type": "execute_result"
    }
   ],
   "source": [
    "df = pd.read_csv(\"../data/raw/autos.csv\",delimiter=\";\")\n",
    "df\n"
   ],
   "metadata": {
    "collapsed": false,
    "ExecuteTime": {
     "end_time": "2023-07-23T02:18:30.987139Z",
     "start_time": "2023-07-23T02:18:30.954986900Z"
    }
   }
  },
  {
   "cell_type": "code",
   "execution_count": 6,
   "outputs": [
    {
     "name": "stdout",
     "output_type": "stream",
     "text": [
      "<class 'pandas.core.frame.DataFrame'>\n",
      "RangeIndex: 406 entries, 0 to 405\n",
      "Data columns (total 9 columns):\n",
      " #   Column             Non-Null Count  Dtype  \n",
      "---  ------             --------------  -----  \n",
      " 0   Millas_Por_Galon   398 non-null    float64\n",
      " 1   Cilindros          406 non-null    int64  \n",
      " 2   Pais_Origen        406 non-null    object \n",
      " 3   Peso_En_Libras     406 non-null    int64  \n",
      " 4   Desplazamiento     406 non-null    float64\n",
      " 5   Aceleracion        406 non-null    float64\n",
      " 6   Nombre             406 non-null    object \n",
      " 7   Anyo               406 non-null    object \n",
      " 8   Caballo_De_Fuerza  400 non-null    float64\n",
      "dtypes: float64(4), int64(2), object(3)\n",
      "memory usage: 28.7+ KB\n"
     ]
    }
   ],
   "source": [
    "df.info()"
   ],
   "metadata": {
    "collapsed": false,
    "ExecuteTime": {
     "end_time": "2023-07-23T02:20:35.848413600Z",
     "start_time": "2023-07-23T02:20:35.795347600Z"
    }
   }
  },
  {
   "cell_type": "code",
   "execution_count": 8,
   "outputs": [
    {
     "data": {
      "text/plain": "Millas_Por_Galon     8\nCilindros            0\nPais_Origen          0\nPeso_En_Libras       0\nDesplazamiento       0\nAceleracion          0\nNombre               0\nAnyo                 0\nCaballo_De_Fuerza    6\ndtype: int64"
     },
     "execution_count": 8,
     "metadata": {},
     "output_type": "execute_result"
    }
   ],
   "source": [
    "df.isna().sum()"
   ],
   "metadata": {
    "collapsed": false,
    "ExecuteTime": {
     "end_time": "2023-07-23T02:24:29.140839100Z",
     "start_time": "2023-07-23T02:24:28.066701700Z"
    }
   }
  },
  {
   "cell_type": "code",
   "execution_count": 9,
   "outputs": [],
   "source": [
    "col_num = ['Millas_Por_Galon','Cilindros','Peso_En_Libras', 'Desplazamiento', 'Aceleracion', 'Caballo_De_Fuerza']\n",
    "\n",
    "df[col_num] = df[col_num].fillna(df[col_num].median())"
   ],
   "metadata": {
    "collapsed": false,
    "ExecuteTime": {
     "end_time": "2023-07-23T02:31:57.234711200Z",
     "start_time": "2023-07-23T02:31:57.205355800Z"
    }
   }
  },
  {
   "cell_type": "code",
   "execution_count": 10,
   "outputs": [
    {
     "data": {
      "text/plain": "Millas_Por_Galon     0\nCilindros            0\nPais_Origen          0\nPeso_En_Libras       0\nDesplazamiento       0\nAceleracion          0\nNombre               0\nAnyo                 0\nCaballo_De_Fuerza    0\ndtype: int64"
     },
     "execution_count": 10,
     "metadata": {},
     "output_type": "execute_result"
    }
   ],
   "source": [
    "df.isna().sum()"
   ],
   "metadata": {
    "collapsed": false,
    "ExecuteTime": {
     "end_time": "2023-07-23T02:32:03.895336700Z",
     "start_time": "2023-07-23T02:32:03.884834700Z"
    }
   }
  },
  {
   "cell_type": "markdown",
   "source": [
    "## Inciso 1"
   ],
   "metadata": {
    "collapsed": false
   }
  },
  {
   "cell_type": "code",
   "execution_count": 13,
   "outputs": [],
   "source": [
    "def log10(var1, var2):\n",
    "    return np.log10(var1/var2)"
   ],
   "metadata": {
    "collapsed": false,
    "ExecuteTime": {
     "end_time": "2023-07-23T02:54:30.343166400Z",
     "start_time": "2023-07-23T02:54:30.311998700Z"
    }
   }
  },
  {
   "cell_type": "code",
   "execution_count": 14,
   "outputs": [],
   "source": [
    "df[\"log\"] = log10(df[\"Millas_Por_Galon\"], df[\"Cilindros\"])"
   ],
   "metadata": {
    "collapsed": false,
    "ExecuteTime": {
     "end_time": "2023-07-23T02:54:30.626970800Z",
     "start_time": "2023-07-23T02:54:30.622455600Z"
    }
   }
  },
  {
   "cell_type": "code",
   "execution_count": 15,
   "outputs": [
    {
     "data": {
      "text/plain": "     Millas_Por_Galon  Cilindros Pais_Origen  Peso_En_Libras  Desplazamiento  \\\n0                18.0          8         USA            3504           307.0   \n1                15.0          8         USA            3693           350.0   \n2                18.0          8         USA            3436           318.0   \n3                16.0          8         USA            3433           304.0   \n4                17.0          8         USA            3449           302.0   \n..                ...        ...         ...             ...             ...   \n401              27.0          4         USA            2790           140.0   \n402              44.0          4      Europe            2130            97.0   \n403              32.0          4         USA            2295           135.0   \n404              28.0          4         USA            2625           120.0   \n405              31.0          4         USA            2720           119.0   \n\n     Aceleracion                     Nombre       Anyo  Caballo_De_Fuerza  \\\n0           12.0  chevrolet chevelle malibu  1/01/1970              130.0   \n1           11.5          buick skylark 320  1/01/1970              165.0   \n2           11.0         plymouth satellite  1/01/1970              150.0   \n3           12.0              amc rebel sst  1/01/1970              150.0   \n4           10.5                ford torino  1/01/1970              140.0   \n..           ...                        ...        ...                ...   \n401         15.6            ford mustang gl  1/01/1982               86.0   \n402         24.6                  vw pickup  1/01/1982               52.0   \n403         11.6              dodge rampage  1/01/1982               84.0   \n404         18.6                ford ranger  1/01/1982               79.0   \n405         19.4                 chevy s-10  1/01/1982               82.0   \n\n          log  \n0    0.352183  \n1    0.273001  \n2    0.352183  \n3    0.301030  \n4    0.327359  \n..        ...  \n401  0.829304  \n402  1.041393  \n403  0.903090  \n404  0.845098  \n405  0.889302  \n\n[406 rows x 10 columns]",
      "text/html": "<div>\n<style scoped>\n    .dataframe tbody tr th:only-of-type {\n        vertical-align: middle;\n    }\n\n    .dataframe tbody tr th {\n        vertical-align: top;\n    }\n\n    .dataframe thead th {\n        text-align: right;\n    }\n</style>\n<table border=\"1\" class=\"dataframe\">\n  <thead>\n    <tr style=\"text-align: right;\">\n      <th></th>\n      <th>Millas_Por_Galon</th>\n      <th>Cilindros</th>\n      <th>Pais_Origen</th>\n      <th>Peso_En_Libras</th>\n      <th>Desplazamiento</th>\n      <th>Aceleracion</th>\n      <th>Nombre</th>\n      <th>Anyo</th>\n      <th>Caballo_De_Fuerza</th>\n      <th>log</th>\n    </tr>\n  </thead>\n  <tbody>\n    <tr>\n      <th>0</th>\n      <td>18.0</td>\n      <td>8</td>\n      <td>USA</td>\n      <td>3504</td>\n      <td>307.0</td>\n      <td>12.0</td>\n      <td>chevrolet chevelle malibu</td>\n      <td>1/01/1970</td>\n      <td>130.0</td>\n      <td>0.352183</td>\n    </tr>\n    <tr>\n      <th>1</th>\n      <td>15.0</td>\n      <td>8</td>\n      <td>USA</td>\n      <td>3693</td>\n      <td>350.0</td>\n      <td>11.5</td>\n      <td>buick skylark 320</td>\n      <td>1/01/1970</td>\n      <td>165.0</td>\n      <td>0.273001</td>\n    </tr>\n    <tr>\n      <th>2</th>\n      <td>18.0</td>\n      <td>8</td>\n      <td>USA</td>\n      <td>3436</td>\n      <td>318.0</td>\n      <td>11.0</td>\n      <td>plymouth satellite</td>\n      <td>1/01/1970</td>\n      <td>150.0</td>\n      <td>0.352183</td>\n    </tr>\n    <tr>\n      <th>3</th>\n      <td>16.0</td>\n      <td>8</td>\n      <td>USA</td>\n      <td>3433</td>\n      <td>304.0</td>\n      <td>12.0</td>\n      <td>amc rebel sst</td>\n      <td>1/01/1970</td>\n      <td>150.0</td>\n      <td>0.301030</td>\n    </tr>\n    <tr>\n      <th>4</th>\n      <td>17.0</td>\n      <td>8</td>\n      <td>USA</td>\n      <td>3449</td>\n      <td>302.0</td>\n      <td>10.5</td>\n      <td>ford torino</td>\n      <td>1/01/1970</td>\n      <td>140.0</td>\n      <td>0.327359</td>\n    </tr>\n    <tr>\n      <th>...</th>\n      <td>...</td>\n      <td>...</td>\n      <td>...</td>\n      <td>...</td>\n      <td>...</td>\n      <td>...</td>\n      <td>...</td>\n      <td>...</td>\n      <td>...</td>\n      <td>...</td>\n    </tr>\n    <tr>\n      <th>401</th>\n      <td>27.0</td>\n      <td>4</td>\n      <td>USA</td>\n      <td>2790</td>\n      <td>140.0</td>\n      <td>15.6</td>\n      <td>ford mustang gl</td>\n      <td>1/01/1982</td>\n      <td>86.0</td>\n      <td>0.829304</td>\n    </tr>\n    <tr>\n      <th>402</th>\n      <td>44.0</td>\n      <td>4</td>\n      <td>Europe</td>\n      <td>2130</td>\n      <td>97.0</td>\n      <td>24.6</td>\n      <td>vw pickup</td>\n      <td>1/01/1982</td>\n      <td>52.0</td>\n      <td>1.041393</td>\n    </tr>\n    <tr>\n      <th>403</th>\n      <td>32.0</td>\n      <td>4</td>\n      <td>USA</td>\n      <td>2295</td>\n      <td>135.0</td>\n      <td>11.6</td>\n      <td>dodge rampage</td>\n      <td>1/01/1982</td>\n      <td>84.0</td>\n      <td>0.903090</td>\n    </tr>\n    <tr>\n      <th>404</th>\n      <td>28.0</td>\n      <td>4</td>\n      <td>USA</td>\n      <td>2625</td>\n      <td>120.0</td>\n      <td>18.6</td>\n      <td>ford ranger</td>\n      <td>1/01/1982</td>\n      <td>79.0</td>\n      <td>0.845098</td>\n    </tr>\n    <tr>\n      <th>405</th>\n      <td>31.0</td>\n      <td>4</td>\n      <td>USA</td>\n      <td>2720</td>\n      <td>119.0</td>\n      <td>19.4</td>\n      <td>chevy s-10</td>\n      <td>1/01/1982</td>\n      <td>82.0</td>\n      <td>0.889302</td>\n    </tr>\n  </tbody>\n</table>\n<p>406 rows × 10 columns</p>\n</div>"
     },
     "execution_count": 15,
     "metadata": {},
     "output_type": "execute_result"
    }
   ],
   "source": [
    "df"
   ],
   "metadata": {
    "collapsed": false,
    "ExecuteTime": {
     "end_time": "2023-07-23T02:54:33.139047700Z",
     "start_time": "2023-07-23T02:54:33.104353700Z"
    }
   }
  },
  {
   "cell_type": "markdown",
   "source": [
    "## Inciso 2"
   ],
   "metadata": {
    "collapsed": false
   }
  },
  {
   "cell_type": "code",
   "execution_count": 17,
   "outputs": [],
   "source": [
    "def sqrt(var1,var2):\n",
    "    return (np.sqrt(var1) * np.exp(var2)) / 200"
   ],
   "metadata": {
    "collapsed": false,
    "ExecuteTime": {
     "end_time": "2023-07-23T02:57:37.472342300Z",
     "start_time": "2023-07-23T02:57:37.463819700Z"
    }
   }
  },
  {
   "cell_type": "code",
   "execution_count": 19,
   "outputs": [
    {
     "data": {
      "text/plain": "     Millas_Por_Galon  Cilindros Pais_Origen  Peso_En_Libras  Desplazamiento  \\\n0                18.0          8         USA            3504           307.0   \n1                15.0          8         USA            3693           350.0   \n2                18.0          8         USA            3436           318.0   \n3                16.0          8         USA            3433           304.0   \n4                17.0          8         USA            3449           302.0   \n..                ...        ...         ...             ...             ...   \n401              27.0          4         USA            2790           140.0   \n402              44.0          4      Europe            2130            97.0   \n403              32.0          4         USA            2295           135.0   \n404              28.0          4         USA            2625           120.0   \n405              31.0          4         USA            2720           119.0   \n\n     Aceleracion                     Nombre       Anyo  Caballo_De_Fuerza  \\\n0           12.0  chevrolet chevelle malibu  1/01/1970              130.0   \n1           11.5          buick skylark 320  1/01/1970              165.0   \n2           11.0         plymouth satellite  1/01/1970              150.0   \n3           12.0              amc rebel sst  1/01/1970              150.0   \n4           10.5                ford torino  1/01/1970              140.0   \n..           ...                        ...        ...                ...   \n401         15.6            ford mustang gl  1/01/1982               86.0   \n402         24.6                  vw pickup  1/01/1982               52.0   \n403         11.6              dodge rampage  1/01/1982               84.0   \n404         18.6                ford ranger  1/01/1982               79.0   \n405         19.4                 chevy s-10  1/01/1982               82.0   \n\n           log       sqrt  \n0    63.235668  63.235668  \n1    57.726003  57.726003  \n2    63.235668  63.235668  \n3    59.619160  59.619160  \n4    61.454023  61.454023  \n..         ...        ...  \n401   1.418502   1.418502  \n402   1.810816   1.810816  \n403   1.544269   1.544269  \n404   1.444531   1.444531  \n405   1.519948   1.519948  \n\n[406 rows x 11 columns]",
      "text/html": "<div>\n<style scoped>\n    .dataframe tbody tr th:only-of-type {\n        vertical-align: middle;\n    }\n\n    .dataframe tbody tr th {\n        vertical-align: top;\n    }\n\n    .dataframe thead th {\n        text-align: right;\n    }\n</style>\n<table border=\"1\" class=\"dataframe\">\n  <thead>\n    <tr style=\"text-align: right;\">\n      <th></th>\n      <th>Millas_Por_Galon</th>\n      <th>Cilindros</th>\n      <th>Pais_Origen</th>\n      <th>Peso_En_Libras</th>\n      <th>Desplazamiento</th>\n      <th>Aceleracion</th>\n      <th>Nombre</th>\n      <th>Anyo</th>\n      <th>Caballo_De_Fuerza</th>\n      <th>log</th>\n      <th>sqrt</th>\n    </tr>\n  </thead>\n  <tbody>\n    <tr>\n      <th>0</th>\n      <td>18.0</td>\n      <td>8</td>\n      <td>USA</td>\n      <td>3504</td>\n      <td>307.0</td>\n      <td>12.0</td>\n      <td>chevrolet chevelle malibu</td>\n      <td>1/01/1970</td>\n      <td>130.0</td>\n      <td>63.235668</td>\n      <td>63.235668</td>\n    </tr>\n    <tr>\n      <th>1</th>\n      <td>15.0</td>\n      <td>8</td>\n      <td>USA</td>\n      <td>3693</td>\n      <td>350.0</td>\n      <td>11.5</td>\n      <td>buick skylark 320</td>\n      <td>1/01/1970</td>\n      <td>165.0</td>\n      <td>57.726003</td>\n      <td>57.726003</td>\n    </tr>\n    <tr>\n      <th>2</th>\n      <td>18.0</td>\n      <td>8</td>\n      <td>USA</td>\n      <td>3436</td>\n      <td>318.0</td>\n      <td>11.0</td>\n      <td>plymouth satellite</td>\n      <td>1/01/1970</td>\n      <td>150.0</td>\n      <td>63.235668</td>\n      <td>63.235668</td>\n    </tr>\n    <tr>\n      <th>3</th>\n      <td>16.0</td>\n      <td>8</td>\n      <td>USA</td>\n      <td>3433</td>\n      <td>304.0</td>\n      <td>12.0</td>\n      <td>amc rebel sst</td>\n      <td>1/01/1970</td>\n      <td>150.0</td>\n      <td>59.619160</td>\n      <td>59.619160</td>\n    </tr>\n    <tr>\n      <th>4</th>\n      <td>17.0</td>\n      <td>8</td>\n      <td>USA</td>\n      <td>3449</td>\n      <td>302.0</td>\n      <td>10.5</td>\n      <td>ford torino</td>\n      <td>1/01/1970</td>\n      <td>140.0</td>\n      <td>61.454023</td>\n      <td>61.454023</td>\n    </tr>\n    <tr>\n      <th>...</th>\n      <td>...</td>\n      <td>...</td>\n      <td>...</td>\n      <td>...</td>\n      <td>...</td>\n      <td>...</td>\n      <td>...</td>\n      <td>...</td>\n      <td>...</td>\n      <td>...</td>\n      <td>...</td>\n    </tr>\n    <tr>\n      <th>401</th>\n      <td>27.0</td>\n      <td>4</td>\n      <td>USA</td>\n      <td>2790</td>\n      <td>140.0</td>\n      <td>15.6</td>\n      <td>ford mustang gl</td>\n      <td>1/01/1982</td>\n      <td>86.0</td>\n      <td>1.418502</td>\n      <td>1.418502</td>\n    </tr>\n    <tr>\n      <th>402</th>\n      <td>44.0</td>\n      <td>4</td>\n      <td>Europe</td>\n      <td>2130</td>\n      <td>97.0</td>\n      <td>24.6</td>\n      <td>vw pickup</td>\n      <td>1/01/1982</td>\n      <td>52.0</td>\n      <td>1.810816</td>\n      <td>1.810816</td>\n    </tr>\n    <tr>\n      <th>403</th>\n      <td>32.0</td>\n      <td>4</td>\n      <td>USA</td>\n      <td>2295</td>\n      <td>135.0</td>\n      <td>11.6</td>\n      <td>dodge rampage</td>\n      <td>1/01/1982</td>\n      <td>84.0</td>\n      <td>1.544269</td>\n      <td>1.544269</td>\n    </tr>\n    <tr>\n      <th>404</th>\n      <td>28.0</td>\n      <td>4</td>\n      <td>USA</td>\n      <td>2625</td>\n      <td>120.0</td>\n      <td>18.6</td>\n      <td>ford ranger</td>\n      <td>1/01/1982</td>\n      <td>79.0</td>\n      <td>1.444531</td>\n      <td>1.444531</td>\n    </tr>\n    <tr>\n      <th>405</th>\n      <td>31.0</td>\n      <td>4</td>\n      <td>USA</td>\n      <td>2720</td>\n      <td>119.0</td>\n      <td>19.4</td>\n      <td>chevy s-10</td>\n      <td>1/01/1982</td>\n      <td>82.0</td>\n      <td>1.519948</td>\n      <td>1.519948</td>\n    </tr>\n  </tbody>\n</table>\n<p>406 rows × 11 columns</p>\n</div>"
     },
     "execution_count": 19,
     "metadata": {},
     "output_type": "execute_result"
    }
   ],
   "source": [
    "df[\"sqrt\"] = sqrt(df[\"Millas_Por_Galon\"], df[\"Cilindros\"])\n",
    "df"
   ],
   "metadata": {
    "collapsed": false,
    "ExecuteTime": {
     "end_time": "2023-07-23T02:57:45.704996900Z",
     "start_time": "2023-07-23T02:57:45.678890Z"
    }
   }
  },
  {
   "cell_type": "markdown",
   "source": [
    "## Inciso 3"
   ],
   "metadata": {
    "collapsed": false
   }
  },
  {
   "cell_type": "code",
   "execution_count": 27,
   "outputs": [],
   "source": [
    "def conditional(var1, var2):\n",
    "    if var1.all() > var2.all():\n",
    "        return 5\n",
    "    else:\n",
    "        return 3"
   ],
   "metadata": {
    "collapsed": false,
    "ExecuteTime": {
     "end_time": "2023-07-23T03:35:08.954601100Z",
     "start_time": "2023-07-23T03:35:08.948094100Z"
    }
   }
  },
  {
   "cell_type": "code",
   "execution_count": 28,
   "outputs": [
    {
     "data": {
      "text/plain": "     Millas_Por_Galon  Cilindros Pais_Origen  Peso_En_Libras  Desplazamiento  \\\n0                18.0          8         USA            3504           307.0   \n1                15.0          8         USA            3693           350.0   \n2                18.0          8         USA            3436           318.0   \n3                16.0          8         USA            3433           304.0   \n4                17.0          8         USA            3449           302.0   \n..                ...        ...         ...             ...             ...   \n401              27.0          4         USA            2790           140.0   \n402              44.0          4      Europe            2130            97.0   \n403              32.0          4         USA            2295           135.0   \n404              28.0          4         USA            2625           120.0   \n405              31.0          4         USA            2720           119.0   \n\n     Aceleracion                     Nombre       Anyo  Caballo_De_Fuerza  \\\n0           12.0  chevrolet chevelle malibu  1/01/1970              130.0   \n1           11.5          buick skylark 320  1/01/1970              165.0   \n2           11.0         plymouth satellite  1/01/1970              150.0   \n3           12.0              amc rebel sst  1/01/1970              150.0   \n4           10.5                ford torino  1/01/1970              140.0   \n..           ...                        ...        ...                ...   \n401         15.6            ford mustang gl  1/01/1982               86.0   \n402         24.6                  vw pickup  1/01/1982               52.0   \n403         11.6              dodge rampage  1/01/1982               84.0   \n404         18.6                ford ranger  1/01/1982               79.0   \n405         19.4                 chevy s-10  1/01/1982               82.0   \n\n           log       sqrt  condicional  \n0    63.235668  63.235668            3  \n1    57.726003  57.726003            3  \n2    63.235668  63.235668            3  \n3    59.619160  59.619160            3  \n4    61.454023  61.454023            3  \n..         ...        ...          ...  \n401   1.418502   1.418502            3  \n402   1.810816   1.810816            3  \n403   1.544269   1.544269            3  \n404   1.444531   1.444531            3  \n405   1.519948   1.519948            3  \n\n[406 rows x 12 columns]",
      "text/html": "<div>\n<style scoped>\n    .dataframe tbody tr th:only-of-type {\n        vertical-align: middle;\n    }\n\n    .dataframe tbody tr th {\n        vertical-align: top;\n    }\n\n    .dataframe thead th {\n        text-align: right;\n    }\n</style>\n<table border=\"1\" class=\"dataframe\">\n  <thead>\n    <tr style=\"text-align: right;\">\n      <th></th>\n      <th>Millas_Por_Galon</th>\n      <th>Cilindros</th>\n      <th>Pais_Origen</th>\n      <th>Peso_En_Libras</th>\n      <th>Desplazamiento</th>\n      <th>Aceleracion</th>\n      <th>Nombre</th>\n      <th>Anyo</th>\n      <th>Caballo_De_Fuerza</th>\n      <th>log</th>\n      <th>sqrt</th>\n      <th>condicional</th>\n    </tr>\n  </thead>\n  <tbody>\n    <tr>\n      <th>0</th>\n      <td>18.0</td>\n      <td>8</td>\n      <td>USA</td>\n      <td>3504</td>\n      <td>307.0</td>\n      <td>12.0</td>\n      <td>chevrolet chevelle malibu</td>\n      <td>1/01/1970</td>\n      <td>130.0</td>\n      <td>63.235668</td>\n      <td>63.235668</td>\n      <td>3</td>\n    </tr>\n    <tr>\n      <th>1</th>\n      <td>15.0</td>\n      <td>8</td>\n      <td>USA</td>\n      <td>3693</td>\n      <td>350.0</td>\n      <td>11.5</td>\n      <td>buick skylark 320</td>\n      <td>1/01/1970</td>\n      <td>165.0</td>\n      <td>57.726003</td>\n      <td>57.726003</td>\n      <td>3</td>\n    </tr>\n    <tr>\n      <th>2</th>\n      <td>18.0</td>\n      <td>8</td>\n      <td>USA</td>\n      <td>3436</td>\n      <td>318.0</td>\n      <td>11.0</td>\n      <td>plymouth satellite</td>\n      <td>1/01/1970</td>\n      <td>150.0</td>\n      <td>63.235668</td>\n      <td>63.235668</td>\n      <td>3</td>\n    </tr>\n    <tr>\n      <th>3</th>\n      <td>16.0</td>\n      <td>8</td>\n      <td>USA</td>\n      <td>3433</td>\n      <td>304.0</td>\n      <td>12.0</td>\n      <td>amc rebel sst</td>\n      <td>1/01/1970</td>\n      <td>150.0</td>\n      <td>59.619160</td>\n      <td>59.619160</td>\n      <td>3</td>\n    </tr>\n    <tr>\n      <th>4</th>\n      <td>17.0</td>\n      <td>8</td>\n      <td>USA</td>\n      <td>3449</td>\n      <td>302.0</td>\n      <td>10.5</td>\n      <td>ford torino</td>\n      <td>1/01/1970</td>\n      <td>140.0</td>\n      <td>61.454023</td>\n      <td>61.454023</td>\n      <td>3</td>\n    </tr>\n    <tr>\n      <th>...</th>\n      <td>...</td>\n      <td>...</td>\n      <td>...</td>\n      <td>...</td>\n      <td>...</td>\n      <td>...</td>\n      <td>...</td>\n      <td>...</td>\n      <td>...</td>\n      <td>...</td>\n      <td>...</td>\n      <td>...</td>\n    </tr>\n    <tr>\n      <th>401</th>\n      <td>27.0</td>\n      <td>4</td>\n      <td>USA</td>\n      <td>2790</td>\n      <td>140.0</td>\n      <td>15.6</td>\n      <td>ford mustang gl</td>\n      <td>1/01/1982</td>\n      <td>86.0</td>\n      <td>1.418502</td>\n      <td>1.418502</td>\n      <td>3</td>\n    </tr>\n    <tr>\n      <th>402</th>\n      <td>44.0</td>\n      <td>4</td>\n      <td>Europe</td>\n      <td>2130</td>\n      <td>97.0</td>\n      <td>24.6</td>\n      <td>vw pickup</td>\n      <td>1/01/1982</td>\n      <td>52.0</td>\n      <td>1.810816</td>\n      <td>1.810816</td>\n      <td>3</td>\n    </tr>\n    <tr>\n      <th>403</th>\n      <td>32.0</td>\n      <td>4</td>\n      <td>USA</td>\n      <td>2295</td>\n      <td>135.0</td>\n      <td>11.6</td>\n      <td>dodge rampage</td>\n      <td>1/01/1982</td>\n      <td>84.0</td>\n      <td>1.544269</td>\n      <td>1.544269</td>\n      <td>3</td>\n    </tr>\n    <tr>\n      <th>404</th>\n      <td>28.0</td>\n      <td>4</td>\n      <td>USA</td>\n      <td>2625</td>\n      <td>120.0</td>\n      <td>18.6</td>\n      <td>ford ranger</td>\n      <td>1/01/1982</td>\n      <td>79.0</td>\n      <td>1.444531</td>\n      <td>1.444531</td>\n      <td>3</td>\n    </tr>\n    <tr>\n      <th>405</th>\n      <td>31.0</td>\n      <td>4</td>\n      <td>USA</td>\n      <td>2720</td>\n      <td>119.0</td>\n      <td>19.4</td>\n      <td>chevy s-10</td>\n      <td>1/01/1982</td>\n      <td>82.0</td>\n      <td>1.519948</td>\n      <td>1.519948</td>\n      <td>3</td>\n    </tr>\n  </tbody>\n</table>\n<p>406 rows × 12 columns</p>\n</div>"
     },
     "execution_count": 28,
     "metadata": {},
     "output_type": "execute_result"
    }
   ],
   "source": [
    "df[\"condicional\"] = conditional(df[\"Desplazamiento\"], df[\"Cilindros\"])\n",
    "df"
   ],
   "metadata": {
    "collapsed": false,
    "ExecuteTime": {
     "end_time": "2023-07-23T03:35:09.312657700Z",
     "start_time": "2023-07-23T03:35:09.300053900Z"
    }
   }
  },
  {
   "cell_type": "markdown",
   "source": [
    "## Inciso 4"
   ],
   "metadata": {
    "collapsed": false
   }
  },
  {
   "cell_type": "code",
   "execution_count": 29,
   "outputs": [],
   "source": [
    "def ln(var1,var2):\n",
    "    return 1 / np.log(var1 / var2) * 100"
   ],
   "metadata": {
    "collapsed": false,
    "ExecuteTime": {
     "end_time": "2023-07-23T03:37:10.049051600Z",
     "start_time": "2023-07-23T03:37:10.031699Z"
    }
   }
  },
  {
   "cell_type": "code",
   "execution_count": 30,
   "outputs": [
    {
     "data": {
      "text/plain": "     Millas_Por_Galon  Cilindros Pais_Origen  Peso_En_Libras  Desplazamiento  \\\n0                18.0          8         USA            3504           307.0   \n1                15.0          8         USA            3693           350.0   \n2                18.0          8         USA            3436           318.0   \n3                16.0          8         USA            3433           304.0   \n4                17.0          8         USA            3449           302.0   \n..                ...        ...         ...             ...             ...   \n401              27.0          4         USA            2790           140.0   \n402              44.0          4      Europe            2130            97.0   \n403              32.0          4         USA            2295           135.0   \n404              28.0          4         USA            2625           120.0   \n405              31.0          4         USA            2720           119.0   \n\n     Aceleracion                     Nombre       Anyo  Caballo_De_Fuerza  \\\n0           12.0  chevrolet chevelle malibu  1/01/1970              130.0   \n1           11.5          buick skylark 320  1/01/1970              165.0   \n2           11.0         plymouth satellite  1/01/1970              150.0   \n3           12.0              amc rebel sst  1/01/1970              150.0   \n4           10.5                ford torino  1/01/1970              140.0   \n..           ...                        ...        ...                ...   \n401         15.6            ford mustang gl  1/01/1982               86.0   \n402         24.6                  vw pickup  1/01/1982               52.0   \n403         11.6              dodge rampage  1/01/1982               84.0   \n404         18.6                ford ranger  1/01/1982               79.0   \n405         19.4                 chevy s-10  1/01/1982               82.0   \n\n           log       sqrt  condicional         ln  \n0    63.235668  63.235668            3  27.416743  \n1    57.726003  57.726003            3  26.465587  \n2    63.235668  63.235668            3  27.154655  \n3    59.619160  59.619160            3  27.490758  \n4    61.454023  61.454023            3  27.540733  \n..         ...        ...          ...        ...  \n401   1.418502   1.418502            3  28.126641  \n402   1.810816   1.810816            3  31.363530  \n403   1.544269   1.544269            3  28.417322  \n404   1.444531   1.444531            3  29.401410  \n405   1.519948   1.519948            3  29.473928  \n\n[406 rows x 13 columns]",
      "text/html": "<div>\n<style scoped>\n    .dataframe tbody tr th:only-of-type {\n        vertical-align: middle;\n    }\n\n    .dataframe tbody tr th {\n        vertical-align: top;\n    }\n\n    .dataframe thead th {\n        text-align: right;\n    }\n</style>\n<table border=\"1\" class=\"dataframe\">\n  <thead>\n    <tr style=\"text-align: right;\">\n      <th></th>\n      <th>Millas_Por_Galon</th>\n      <th>Cilindros</th>\n      <th>Pais_Origen</th>\n      <th>Peso_En_Libras</th>\n      <th>Desplazamiento</th>\n      <th>Aceleracion</th>\n      <th>Nombre</th>\n      <th>Anyo</th>\n      <th>Caballo_De_Fuerza</th>\n      <th>log</th>\n      <th>sqrt</th>\n      <th>condicional</th>\n      <th>ln</th>\n    </tr>\n  </thead>\n  <tbody>\n    <tr>\n      <th>0</th>\n      <td>18.0</td>\n      <td>8</td>\n      <td>USA</td>\n      <td>3504</td>\n      <td>307.0</td>\n      <td>12.0</td>\n      <td>chevrolet chevelle malibu</td>\n      <td>1/01/1970</td>\n      <td>130.0</td>\n      <td>63.235668</td>\n      <td>63.235668</td>\n      <td>3</td>\n      <td>27.416743</td>\n    </tr>\n    <tr>\n      <th>1</th>\n      <td>15.0</td>\n      <td>8</td>\n      <td>USA</td>\n      <td>3693</td>\n      <td>350.0</td>\n      <td>11.5</td>\n      <td>buick skylark 320</td>\n      <td>1/01/1970</td>\n      <td>165.0</td>\n      <td>57.726003</td>\n      <td>57.726003</td>\n      <td>3</td>\n      <td>26.465587</td>\n    </tr>\n    <tr>\n      <th>2</th>\n      <td>18.0</td>\n      <td>8</td>\n      <td>USA</td>\n      <td>3436</td>\n      <td>318.0</td>\n      <td>11.0</td>\n      <td>plymouth satellite</td>\n      <td>1/01/1970</td>\n      <td>150.0</td>\n      <td>63.235668</td>\n      <td>63.235668</td>\n      <td>3</td>\n      <td>27.154655</td>\n    </tr>\n    <tr>\n      <th>3</th>\n      <td>16.0</td>\n      <td>8</td>\n      <td>USA</td>\n      <td>3433</td>\n      <td>304.0</td>\n      <td>12.0</td>\n      <td>amc rebel sst</td>\n      <td>1/01/1970</td>\n      <td>150.0</td>\n      <td>59.619160</td>\n      <td>59.619160</td>\n      <td>3</td>\n      <td>27.490758</td>\n    </tr>\n    <tr>\n      <th>4</th>\n      <td>17.0</td>\n      <td>8</td>\n      <td>USA</td>\n      <td>3449</td>\n      <td>302.0</td>\n      <td>10.5</td>\n      <td>ford torino</td>\n      <td>1/01/1970</td>\n      <td>140.0</td>\n      <td>61.454023</td>\n      <td>61.454023</td>\n      <td>3</td>\n      <td>27.540733</td>\n    </tr>\n    <tr>\n      <th>...</th>\n      <td>...</td>\n      <td>...</td>\n      <td>...</td>\n      <td>...</td>\n      <td>...</td>\n      <td>...</td>\n      <td>...</td>\n      <td>...</td>\n      <td>...</td>\n      <td>...</td>\n      <td>...</td>\n      <td>...</td>\n      <td>...</td>\n    </tr>\n    <tr>\n      <th>401</th>\n      <td>27.0</td>\n      <td>4</td>\n      <td>USA</td>\n      <td>2790</td>\n      <td>140.0</td>\n      <td>15.6</td>\n      <td>ford mustang gl</td>\n      <td>1/01/1982</td>\n      <td>86.0</td>\n      <td>1.418502</td>\n      <td>1.418502</td>\n      <td>3</td>\n      <td>28.126641</td>\n    </tr>\n    <tr>\n      <th>402</th>\n      <td>44.0</td>\n      <td>4</td>\n      <td>Europe</td>\n      <td>2130</td>\n      <td>97.0</td>\n      <td>24.6</td>\n      <td>vw pickup</td>\n      <td>1/01/1982</td>\n      <td>52.0</td>\n      <td>1.810816</td>\n      <td>1.810816</td>\n      <td>3</td>\n      <td>31.363530</td>\n    </tr>\n    <tr>\n      <th>403</th>\n      <td>32.0</td>\n      <td>4</td>\n      <td>USA</td>\n      <td>2295</td>\n      <td>135.0</td>\n      <td>11.6</td>\n      <td>dodge rampage</td>\n      <td>1/01/1982</td>\n      <td>84.0</td>\n      <td>1.544269</td>\n      <td>1.544269</td>\n      <td>3</td>\n      <td>28.417322</td>\n    </tr>\n    <tr>\n      <th>404</th>\n      <td>28.0</td>\n      <td>4</td>\n      <td>USA</td>\n      <td>2625</td>\n      <td>120.0</td>\n      <td>18.6</td>\n      <td>ford ranger</td>\n      <td>1/01/1982</td>\n      <td>79.0</td>\n      <td>1.444531</td>\n      <td>1.444531</td>\n      <td>3</td>\n      <td>29.401410</td>\n    </tr>\n    <tr>\n      <th>405</th>\n      <td>31.0</td>\n      <td>4</td>\n      <td>USA</td>\n      <td>2720</td>\n      <td>119.0</td>\n      <td>19.4</td>\n      <td>chevy s-10</td>\n      <td>1/01/1982</td>\n      <td>82.0</td>\n      <td>1.519948</td>\n      <td>1.519948</td>\n      <td>3</td>\n      <td>29.473928</td>\n    </tr>\n  </tbody>\n</table>\n<p>406 rows × 13 columns</p>\n</div>"
     },
     "execution_count": 30,
     "metadata": {},
     "output_type": "execute_result"
    }
   ],
   "source": [
    "df[\"ln\"] = ln(df[\"Desplazamiento\"], df[\"Cilindros\"])\n",
    "df"
   ],
   "metadata": {
    "collapsed": false,
    "ExecuteTime": {
     "end_time": "2023-07-23T03:37:24.455074300Z",
     "start_time": "2023-07-23T03:37:24.435043400Z"
    }
   }
  },
  {
   "cell_type": "markdown",
   "source": [
    "## Inciso 5"
   ],
   "metadata": {
    "collapsed": false
   }
  },
  {
   "cell_type": "code",
   "execution_count": 31,
   "outputs": [],
   "source": [
    "def pow(var1,var2):\n",
    "    return var2**2/var1"
   ],
   "metadata": {
    "collapsed": false,
    "ExecuteTime": {
     "end_time": "2023-07-23T03:39:08.980599Z",
     "start_time": "2023-07-23T03:39:08.968051800Z"
    }
   }
  },
  {
   "cell_type": "code",
   "execution_count": 32,
   "outputs": [
    {
     "data": {
      "text/plain": "     Millas_Por_Galon  Cilindros Pais_Origen  Peso_En_Libras  Desplazamiento  \\\n0                18.0          8         USA            3504           307.0   \n1                15.0          8         USA            3693           350.0   \n2                18.0          8         USA            3436           318.0   \n3                16.0          8         USA            3433           304.0   \n4                17.0          8         USA            3449           302.0   \n..                ...        ...         ...             ...             ...   \n401              27.0          4         USA            2790           140.0   \n402              44.0          4      Europe            2130            97.0   \n403              32.0          4         USA            2295           135.0   \n404              28.0          4         USA            2625           120.0   \n405              31.0          4         USA            2720           119.0   \n\n     Aceleracion                     Nombre       Anyo  Caballo_De_Fuerza  \\\n0           12.0  chevrolet chevelle malibu  1/01/1970              130.0   \n1           11.5          buick skylark 320  1/01/1970              165.0   \n2           11.0         plymouth satellite  1/01/1970              150.0   \n3           12.0              amc rebel sst  1/01/1970              150.0   \n4           10.5                ford torino  1/01/1970              140.0   \n..           ...                        ...        ...                ...   \n401         15.6            ford mustang gl  1/01/1982               86.0   \n402         24.6                  vw pickup  1/01/1982               52.0   \n403         11.6              dodge rampage  1/01/1982               84.0   \n404         18.6                ford ranger  1/01/1982               79.0   \n405         19.4                 chevy s-10  1/01/1982               82.0   \n\n           log       sqrt  condicional         ln       pow  \n0    63.235668  63.235668            3  27.416743  0.208469  \n1    57.726003  57.726003            3  26.465587  0.182857  \n2    63.235668  63.235668            3  27.154655  0.201258  \n3    59.619160  59.619160            3  27.490758  0.210526  \n4    61.454023  61.454023            3  27.540733  0.211921  \n..         ...        ...          ...        ...       ...  \n401   1.418502   1.418502            3  28.126641  0.114286  \n402   1.810816   1.810816            3  31.363530  0.164948  \n403   1.544269   1.544269            3  28.417322  0.118519  \n404   1.444531   1.444531            3  29.401410  0.133333  \n405   1.519948   1.519948            3  29.473928  0.134454  \n\n[406 rows x 14 columns]",
      "text/html": "<div>\n<style scoped>\n    .dataframe tbody tr th:only-of-type {\n        vertical-align: middle;\n    }\n\n    .dataframe tbody tr th {\n        vertical-align: top;\n    }\n\n    .dataframe thead th {\n        text-align: right;\n    }\n</style>\n<table border=\"1\" class=\"dataframe\">\n  <thead>\n    <tr style=\"text-align: right;\">\n      <th></th>\n      <th>Millas_Por_Galon</th>\n      <th>Cilindros</th>\n      <th>Pais_Origen</th>\n      <th>Peso_En_Libras</th>\n      <th>Desplazamiento</th>\n      <th>Aceleracion</th>\n      <th>Nombre</th>\n      <th>Anyo</th>\n      <th>Caballo_De_Fuerza</th>\n      <th>log</th>\n      <th>sqrt</th>\n      <th>condicional</th>\n      <th>ln</th>\n      <th>pow</th>\n    </tr>\n  </thead>\n  <tbody>\n    <tr>\n      <th>0</th>\n      <td>18.0</td>\n      <td>8</td>\n      <td>USA</td>\n      <td>3504</td>\n      <td>307.0</td>\n      <td>12.0</td>\n      <td>chevrolet chevelle malibu</td>\n      <td>1/01/1970</td>\n      <td>130.0</td>\n      <td>63.235668</td>\n      <td>63.235668</td>\n      <td>3</td>\n      <td>27.416743</td>\n      <td>0.208469</td>\n    </tr>\n    <tr>\n      <th>1</th>\n      <td>15.0</td>\n      <td>8</td>\n      <td>USA</td>\n      <td>3693</td>\n      <td>350.0</td>\n      <td>11.5</td>\n      <td>buick skylark 320</td>\n      <td>1/01/1970</td>\n      <td>165.0</td>\n      <td>57.726003</td>\n      <td>57.726003</td>\n      <td>3</td>\n      <td>26.465587</td>\n      <td>0.182857</td>\n    </tr>\n    <tr>\n      <th>2</th>\n      <td>18.0</td>\n      <td>8</td>\n      <td>USA</td>\n      <td>3436</td>\n      <td>318.0</td>\n      <td>11.0</td>\n      <td>plymouth satellite</td>\n      <td>1/01/1970</td>\n      <td>150.0</td>\n      <td>63.235668</td>\n      <td>63.235668</td>\n      <td>3</td>\n      <td>27.154655</td>\n      <td>0.201258</td>\n    </tr>\n    <tr>\n      <th>3</th>\n      <td>16.0</td>\n      <td>8</td>\n      <td>USA</td>\n      <td>3433</td>\n      <td>304.0</td>\n      <td>12.0</td>\n      <td>amc rebel sst</td>\n      <td>1/01/1970</td>\n      <td>150.0</td>\n      <td>59.619160</td>\n      <td>59.619160</td>\n      <td>3</td>\n      <td>27.490758</td>\n      <td>0.210526</td>\n    </tr>\n    <tr>\n      <th>4</th>\n      <td>17.0</td>\n      <td>8</td>\n      <td>USA</td>\n      <td>3449</td>\n      <td>302.0</td>\n      <td>10.5</td>\n      <td>ford torino</td>\n      <td>1/01/1970</td>\n      <td>140.0</td>\n      <td>61.454023</td>\n      <td>61.454023</td>\n      <td>3</td>\n      <td>27.540733</td>\n      <td>0.211921</td>\n    </tr>\n    <tr>\n      <th>...</th>\n      <td>...</td>\n      <td>...</td>\n      <td>...</td>\n      <td>...</td>\n      <td>...</td>\n      <td>...</td>\n      <td>...</td>\n      <td>...</td>\n      <td>...</td>\n      <td>...</td>\n      <td>...</td>\n      <td>...</td>\n      <td>...</td>\n      <td>...</td>\n    </tr>\n    <tr>\n      <th>401</th>\n      <td>27.0</td>\n      <td>4</td>\n      <td>USA</td>\n      <td>2790</td>\n      <td>140.0</td>\n      <td>15.6</td>\n      <td>ford mustang gl</td>\n      <td>1/01/1982</td>\n      <td>86.0</td>\n      <td>1.418502</td>\n      <td>1.418502</td>\n      <td>3</td>\n      <td>28.126641</td>\n      <td>0.114286</td>\n    </tr>\n    <tr>\n      <th>402</th>\n      <td>44.0</td>\n      <td>4</td>\n      <td>Europe</td>\n      <td>2130</td>\n      <td>97.0</td>\n      <td>24.6</td>\n      <td>vw pickup</td>\n      <td>1/01/1982</td>\n      <td>52.0</td>\n      <td>1.810816</td>\n      <td>1.810816</td>\n      <td>3</td>\n      <td>31.363530</td>\n      <td>0.164948</td>\n    </tr>\n    <tr>\n      <th>403</th>\n      <td>32.0</td>\n      <td>4</td>\n      <td>USA</td>\n      <td>2295</td>\n      <td>135.0</td>\n      <td>11.6</td>\n      <td>dodge rampage</td>\n      <td>1/01/1982</td>\n      <td>84.0</td>\n      <td>1.544269</td>\n      <td>1.544269</td>\n      <td>3</td>\n      <td>28.417322</td>\n      <td>0.118519</td>\n    </tr>\n    <tr>\n      <th>404</th>\n      <td>28.0</td>\n      <td>4</td>\n      <td>USA</td>\n      <td>2625</td>\n      <td>120.0</td>\n      <td>18.6</td>\n      <td>ford ranger</td>\n      <td>1/01/1982</td>\n      <td>79.0</td>\n      <td>1.444531</td>\n      <td>1.444531</td>\n      <td>3</td>\n      <td>29.401410</td>\n      <td>0.133333</td>\n    </tr>\n    <tr>\n      <th>405</th>\n      <td>31.0</td>\n      <td>4</td>\n      <td>USA</td>\n      <td>2720</td>\n      <td>119.0</td>\n      <td>19.4</td>\n      <td>chevy s-10</td>\n      <td>1/01/1982</td>\n      <td>82.0</td>\n      <td>1.519948</td>\n      <td>1.519948</td>\n      <td>3</td>\n      <td>29.473928</td>\n      <td>0.134454</td>\n    </tr>\n  </tbody>\n</table>\n<p>406 rows × 14 columns</p>\n</div>"
     },
     "execution_count": 32,
     "metadata": {},
     "output_type": "execute_result"
    }
   ],
   "source": [
    "df[\"pow\"] = pow(df[\"Desplazamiento\"], df[\"Cilindros\"])\n",
    "df"
   ],
   "metadata": {
    "collapsed": false,
    "ExecuteTime": {
     "end_time": "2023-07-23T03:39:09.264618300Z",
     "start_time": "2023-07-23T03:39:09.248341700Z"
    }
   }
  }
 ],
 "metadata": {
  "kernelspec": {
   "display_name": "Python 3",
   "language": "python",
   "name": "python3"
  },
  "language_info": {
   "codemirror_mode": {
    "name": "ipython",
    "version": 2
   },
   "file_extension": ".py",
   "mimetype": "text/x-python",
   "name": "python",
   "nbconvert_exporter": "python",
   "pygments_lexer": "ipython2",
   "version": "2.7.6"
  }
 },
 "nbformat": 4,
 "nbformat_minor": 0
}
