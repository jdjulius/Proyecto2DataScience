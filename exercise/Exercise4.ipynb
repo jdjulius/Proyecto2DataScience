{
 "cells": [
  {
   "cell_type": "markdown",
   "source": [
    "    # Ejercicio Nº 4\n",
    "Con el siguiente fichero datos_seguros.csv contiene información de riesgo de clientes de un banco. Escribir un programa con los siguientes requisitos:\n",
    "1. Generar un DataFrame con los datos del fichero.\n",
    "2. Mostrar por pantalla las dimensiones del DataFrame, el número de datos que contiene, los nombres de sus columnas y filas, los tipos de datos de las columnas, mostrar las 10 primeras filas y las 10 últimas filas, verificar si tiene datos perdidos/nulos.\n",
    "3. Extraer las 1000 primeras filas y almacenarlas en un contenedor.\n"
   ],
   "metadata": {
    "collapsed": false
   }
  },
  {
   "cell_type": "code",
   "execution_count": 1,
   "outputs": [],
   "source": [
    "import pandas as pd"
   ],
   "metadata": {
    "collapsed": false,
    "ExecuteTime": {
     "end_time": "2023-07-16T02:52:46.763216300Z",
     "start_time": "2023-07-16T02:52:46.219702800Z"
    }
   }
  },
  {
   "cell_type": "code",
   "execution_count": 2,
   "outputs": [],
   "source": [
    "df = pd.read_csv(\"../data/raw/datos_seguros.csv\", sep=\";\")"
   ],
   "metadata": {
    "collapsed": false,
    "ExecuteTime": {
     "end_time": "2023-07-16T02:53:09.801377Z",
     "start_time": "2023-07-16T02:53:09.691395500Z"
    }
   }
  },
  {
   "cell_type": "code",
   "execution_count": 3,
   "outputs": [
    {
     "data": {
      "text/plain": "(45798, 17)"
     },
     "execution_count": 3,
     "metadata": {},
     "output_type": "execute_result"
    }
   ],
   "source": [
    "df.shape"
   ],
   "metadata": {
    "collapsed": false,
    "ExecuteTime": {
     "end_time": "2023-07-16T02:53:12.269841400Z",
     "start_time": "2023-07-16T02:53:12.219246300Z"
    }
   }
  },
  {
   "cell_type": "code",
   "execution_count": 4,
   "outputs": [
    {
     "data": {
      "text/plain": "778566"
     },
     "execution_count": 4,
     "metadata": {},
     "output_type": "execute_result"
    }
   ],
   "source": [
    "df.size"
   ],
   "metadata": {
    "collapsed": false,
    "ExecuteTime": {
     "end_time": "2023-07-16T02:53:23.170993500Z",
     "start_time": "2023-07-16T02:53:23.148969700Z"
    }
   }
  },
  {
   "cell_type": "code",
   "execution_count": 5,
   "outputs": [
    {
     "data": {
      "text/plain": "Index(['MES_T0', 'VENTA_SEGURO', 'NUM_TC_TOTAL_T2', 'SALDO_BCO_T2',\n       'LINEA_BCO_T2', 'USO_LINEA_BCO_T2', 'Nro_CTa_Ahorro_Bco_T1',\n       'Ahorro_Sldo_Bco_T1', 'monto_ope_t2', 'PROM_ANUAL_MTO_OPERA',\n       'MAX_MTO_OPERA_Anual', 'Ratio_HospvsMtoTotal_t2', 'SEXO',\n       'ANTIGUEDAD_MES', 'DEPARTAMENTO', 'SOW_BCO_T2', 'SOW_BCO_SEMESTRAL'],\n      dtype='object')"
     },
     "execution_count": 5,
     "metadata": {},
     "output_type": "execute_result"
    }
   ],
   "source": [
    "df.columns"
   ],
   "metadata": {
    "collapsed": false,
    "ExecuteTime": {
     "end_time": "2023-07-16T02:53:29.015585100Z",
     "start_time": "2023-07-16T02:53:28.994531200Z"
    }
   }
  },
  {
   "cell_type": "code",
   "execution_count": 6,
   "outputs": [
    {
     "data": {
      "text/plain": "RangeIndex(start=0, stop=45798, step=1)"
     },
     "execution_count": 6,
     "metadata": {},
     "output_type": "execute_result"
    }
   ],
   "source": [
    "df.index"
   ],
   "metadata": {
    "collapsed": false,
    "ExecuteTime": {
     "end_time": "2023-07-16T02:53:33.729172500Z",
     "start_time": "2023-07-16T02:53:33.683084600Z"
    }
   }
  },
  {
   "cell_type": "code",
   "execution_count": 7,
   "outputs": [
    {
     "data": {
      "text/plain": "MES_T0                       int64\nVENTA_SEGURO                 int64\nNUM_TC_TOTAL_T2            float64\nSALDO_BCO_T2               float64\nLINEA_BCO_T2               float64\nUSO_LINEA_BCO_T2           float64\nNro_CTa_Ahorro_Bco_T1      float64\nAhorro_Sldo_Bco_T1         float64\nmonto_ope_t2               float64\nPROM_ANUAL_MTO_OPERA       float64\nMAX_MTO_OPERA_Anual        float64\nRatio_HospvsMtoTotal_t2    float64\nSEXO                        object\nANTIGUEDAD_MES               int64\nDEPARTAMENTO                object\nSOW_BCO_T2                 float64\nSOW_BCO_SEMESTRAL          float64\ndtype: object"
     },
     "execution_count": 7,
     "metadata": {},
     "output_type": "execute_result"
    }
   ],
   "source": [
    "df.dtypes"
   ],
   "metadata": {
    "collapsed": false,
    "ExecuteTime": {
     "end_time": "2023-07-16T02:53:39.352794800Z",
     "start_time": "2023-07-16T02:53:39.330762700Z"
    }
   }
  },
  {
   "cell_type": "code",
   "execution_count": 8,
   "outputs": [
    {
     "data": {
      "text/plain": "   MES_T0  VENTA_SEGURO  NUM_TC_TOTAL_T2  SALDO_BCO_T2  LINEA_BCO_T2  \\\n0  201506             0              3.0           0.0        2300.0   \n1  201506             0              2.0        3215.0        3500.0   \n2  201506             0              1.0        3169.0        5000.0   \n3  201506             1              1.0        6495.0        8450.0   \n4  201506             0              NaN           NaN           NaN   \n5  201506             0              3.0        2373.0        9373.0   \n6  201506             0              2.0           0.0           0.0   \n7  201506             0              1.0        3023.0       16720.0   \n8  201506             0              1.0        1931.0       12500.0   \n9  201506             0              NaN           NaN           NaN   \n\n   USO_LINEA_BCO_T2  Nro_CTa_Ahorro_Bco_T1  Ahorro_Sldo_Bco_T1  monto_ope_t2  \\\n0          0.000000                    0.0                 0.0         15.00   \n1          0.918571                    0.0                 0.0        548.98   \n2          0.633800                    0.0                 0.0          0.00   \n3          0.768639                    2.0               505.0       2137.94   \n4               NaN                    0.0                 0.0         12.37   \n5          0.253174                    0.0                 0.0        411.86   \n6          0.000000                    1.0              2662.0         46.00   \n7          0.180801                    0.0                 0.0       2982.90   \n8          0.154480                    0.0                 0.0        412.00   \n9               NaN                    2.0             40718.0       1644.30   \n\n   PROM_ANUAL_MTO_OPERA  MAX_MTO_OPERA_Anual  Ratio_HospvsMtoTotal_t2 SEXO  \\\n0             18.644444                52.80                      NaN    M   \n1           2632.020000              5709.24                      NaN    M   \n2           4999.000000              4999.00                      0.0    M   \n3           4900.191666             11206.80                      NaN    F   \n4             12.370000                12.37                      NaN    F   \n5           1410.662727              5055.62                      NaN    M   \n6            218.393333               390.90                      NaN    M   \n7           1721.769166              3137.70                      0.0    M   \n8            986.337500              2119.00                      NaN    M   \n9           1581.335000              3565.14                      NaN    F   \n\n   ANTIGUEDAD_MES DEPARTAMENTO  SOW_BCO_T2  SOW_BCO_SEMESTRAL  \n0              58         LIMA    0.000000           0.000000  \n1              69        JUNIN    0.816134           0.930867  \n2              16       CALLAO    1.000000           1.000000  \n3              62         LIMA    0.413831           0.505504  \n4               5     AREQUIPA    0.000000           0.000000  \n5              44       CALLAO    0.181633           0.677393  \n6               4         LIMA    0.000000           0.000000  \n7             136         LIMA    1.000000           1.000000  \n8             292         LIMA    0.278603           0.541839  \n9              49     AREQUIPA    0.000000           0.000000  ",
      "text/html": "<div>\n<style scoped>\n    .dataframe tbody tr th:only-of-type {\n        vertical-align: middle;\n    }\n\n    .dataframe tbody tr th {\n        vertical-align: top;\n    }\n\n    .dataframe thead th {\n        text-align: right;\n    }\n</style>\n<table border=\"1\" class=\"dataframe\">\n  <thead>\n    <tr style=\"text-align: right;\">\n      <th></th>\n      <th>MES_T0</th>\n      <th>VENTA_SEGURO</th>\n      <th>NUM_TC_TOTAL_T2</th>\n      <th>SALDO_BCO_T2</th>\n      <th>LINEA_BCO_T2</th>\n      <th>USO_LINEA_BCO_T2</th>\n      <th>Nro_CTa_Ahorro_Bco_T1</th>\n      <th>Ahorro_Sldo_Bco_T1</th>\n      <th>monto_ope_t2</th>\n      <th>PROM_ANUAL_MTO_OPERA</th>\n      <th>MAX_MTO_OPERA_Anual</th>\n      <th>Ratio_HospvsMtoTotal_t2</th>\n      <th>SEXO</th>\n      <th>ANTIGUEDAD_MES</th>\n      <th>DEPARTAMENTO</th>\n      <th>SOW_BCO_T2</th>\n      <th>SOW_BCO_SEMESTRAL</th>\n    </tr>\n  </thead>\n  <tbody>\n    <tr>\n      <th>0</th>\n      <td>201506</td>\n      <td>0</td>\n      <td>3.0</td>\n      <td>0.0</td>\n      <td>2300.0</td>\n      <td>0.000000</td>\n      <td>0.0</td>\n      <td>0.0</td>\n      <td>15.00</td>\n      <td>18.644444</td>\n      <td>52.80</td>\n      <td>NaN</td>\n      <td>M</td>\n      <td>58</td>\n      <td>LIMA</td>\n      <td>0.000000</td>\n      <td>0.000000</td>\n    </tr>\n    <tr>\n      <th>1</th>\n      <td>201506</td>\n      <td>0</td>\n      <td>2.0</td>\n      <td>3215.0</td>\n      <td>3500.0</td>\n      <td>0.918571</td>\n      <td>0.0</td>\n      <td>0.0</td>\n      <td>548.98</td>\n      <td>2632.020000</td>\n      <td>5709.24</td>\n      <td>NaN</td>\n      <td>M</td>\n      <td>69</td>\n      <td>JUNIN</td>\n      <td>0.816134</td>\n      <td>0.930867</td>\n    </tr>\n    <tr>\n      <th>2</th>\n      <td>201506</td>\n      <td>0</td>\n      <td>1.0</td>\n      <td>3169.0</td>\n      <td>5000.0</td>\n      <td>0.633800</td>\n      <td>0.0</td>\n      <td>0.0</td>\n      <td>0.00</td>\n      <td>4999.000000</td>\n      <td>4999.00</td>\n      <td>0.0</td>\n      <td>M</td>\n      <td>16</td>\n      <td>CALLAO</td>\n      <td>1.000000</td>\n      <td>1.000000</td>\n    </tr>\n    <tr>\n      <th>3</th>\n      <td>201506</td>\n      <td>1</td>\n      <td>1.0</td>\n      <td>6495.0</td>\n      <td>8450.0</td>\n      <td>0.768639</td>\n      <td>2.0</td>\n      <td>505.0</td>\n      <td>2137.94</td>\n      <td>4900.191666</td>\n      <td>11206.80</td>\n      <td>NaN</td>\n      <td>F</td>\n      <td>62</td>\n      <td>LIMA</td>\n      <td>0.413831</td>\n      <td>0.505504</td>\n    </tr>\n    <tr>\n      <th>4</th>\n      <td>201506</td>\n      <td>0</td>\n      <td>NaN</td>\n      <td>NaN</td>\n      <td>NaN</td>\n      <td>NaN</td>\n      <td>0.0</td>\n      <td>0.0</td>\n      <td>12.37</td>\n      <td>12.370000</td>\n      <td>12.37</td>\n      <td>NaN</td>\n      <td>F</td>\n      <td>5</td>\n      <td>AREQUIPA</td>\n      <td>0.000000</td>\n      <td>0.000000</td>\n    </tr>\n    <tr>\n      <th>5</th>\n      <td>201506</td>\n      <td>0</td>\n      <td>3.0</td>\n      <td>2373.0</td>\n      <td>9373.0</td>\n      <td>0.253174</td>\n      <td>0.0</td>\n      <td>0.0</td>\n      <td>411.86</td>\n      <td>1410.662727</td>\n      <td>5055.62</td>\n      <td>NaN</td>\n      <td>M</td>\n      <td>44</td>\n      <td>CALLAO</td>\n      <td>0.181633</td>\n      <td>0.677393</td>\n    </tr>\n    <tr>\n      <th>6</th>\n      <td>201506</td>\n      <td>0</td>\n      <td>2.0</td>\n      <td>0.0</td>\n      <td>0.0</td>\n      <td>0.000000</td>\n      <td>1.0</td>\n      <td>2662.0</td>\n      <td>46.00</td>\n      <td>218.393333</td>\n      <td>390.90</td>\n      <td>NaN</td>\n      <td>M</td>\n      <td>4</td>\n      <td>LIMA</td>\n      <td>0.000000</td>\n      <td>0.000000</td>\n    </tr>\n    <tr>\n      <th>7</th>\n      <td>201506</td>\n      <td>0</td>\n      <td>1.0</td>\n      <td>3023.0</td>\n      <td>16720.0</td>\n      <td>0.180801</td>\n      <td>0.0</td>\n      <td>0.0</td>\n      <td>2982.90</td>\n      <td>1721.769166</td>\n      <td>3137.70</td>\n      <td>0.0</td>\n      <td>M</td>\n      <td>136</td>\n      <td>LIMA</td>\n      <td>1.000000</td>\n      <td>1.000000</td>\n    </tr>\n    <tr>\n      <th>8</th>\n      <td>201506</td>\n      <td>0</td>\n      <td>1.0</td>\n      <td>1931.0</td>\n      <td>12500.0</td>\n      <td>0.154480</td>\n      <td>0.0</td>\n      <td>0.0</td>\n      <td>412.00</td>\n      <td>986.337500</td>\n      <td>2119.00</td>\n      <td>NaN</td>\n      <td>M</td>\n      <td>292</td>\n      <td>LIMA</td>\n      <td>0.278603</td>\n      <td>0.541839</td>\n    </tr>\n    <tr>\n      <th>9</th>\n      <td>201506</td>\n      <td>0</td>\n      <td>NaN</td>\n      <td>NaN</td>\n      <td>NaN</td>\n      <td>NaN</td>\n      <td>2.0</td>\n      <td>40718.0</td>\n      <td>1644.30</td>\n      <td>1581.335000</td>\n      <td>3565.14</td>\n      <td>NaN</td>\n      <td>F</td>\n      <td>49</td>\n      <td>AREQUIPA</td>\n      <td>0.000000</td>\n      <td>0.000000</td>\n    </tr>\n  </tbody>\n</table>\n</div>"
     },
     "execution_count": 8,
     "metadata": {},
     "output_type": "execute_result"
    }
   ],
   "source": [
    "df.head(10)"
   ],
   "metadata": {
    "collapsed": false,
    "ExecuteTime": {
     "end_time": "2023-07-16T02:53:46.241270200Z",
     "start_time": "2023-07-16T02:53:46.189557600Z"
    }
   }
  },
  {
   "cell_type": "code",
   "execution_count": 9,
   "outputs": [
    {
     "data": {
      "text/plain": "       MES_T0  VENTA_SEGURO  NUM_TC_TOTAL_T2  SALDO_BCO_T2  LINEA_BCO_T2  \\\n45788  201505             0              4.0           0.0           0.0   \n45789  201505             0              1.0           0.0           0.0   \n45790  201505             0              2.0           0.0           0.0   \n45791  201506             0              1.0           0.0           0.0   \n45792  201505             0              2.0           0.0       12000.0   \n45793  201505             0              2.0           0.0           0.0   \n45794  201505             0              NaN           NaN           NaN   \n45795  201506             0              NaN           NaN           NaN   \n45796  201506             0              NaN           NaN           NaN   \n45797  201506             0              1.0           0.0           0.0   \n\n       USO_LINEA_BCO_T2  Nro_CTa_Ahorro_Bco_T1  Ahorro_Sldo_Bco_T1  \\\n45788               0.0                    0.0                 0.0   \n45789               0.0                    2.0              8217.0   \n45790               0.0                    0.0                 0.0   \n45791               0.0                    2.0              9261.0   \n45792               0.0                    2.0               804.0   \n45793               0.0                    NaN                 NaN   \n45794               NaN                    2.0              6189.0   \n45795               NaN                    1.0               138.0   \n45796               NaN                    0.0                 0.0   \n45797               0.0                    6.0              2762.0   \n\n       monto_ope_t2  PROM_ANUAL_MTO_OPERA  MAX_MTO_OPERA_Anual  \\\n45788       1054.41            688.975000              1054.41   \n45789          0.00            681.600000              1337.00   \n45790        810.00            810.000000               810.00   \n45791       4244.19           3466.162500             15419.30   \n45792        277.20            237.600000               277.20   \n45793           NaN                   NaN                  NaN   \n45794       1314.10           1314.100000              1314.10   \n45795         36.00             73.114285               220.00   \n45796          0.00            299.468750               830.00   \n45797          0.00            780.000000               780.00   \n\n       Ratio_HospvsMtoTotal_t2 SEXO  ANTIGUEDAD_MES DEPARTAMENTO  SOW_BCO_T2  \\\n45788                      NaN    F             105         LIMA         0.0   \n45789                      0.0    M              31       ANCASH         0.0   \n45790                      NaN    M             226         LIMA         0.0   \n45791                      0.0    F             204      UCAYALI         0.0   \n45792                      NaN    M               8  LA LIBERTAD         0.0   \n45793                      0.0    F               4         LIMA         0.0   \n45794                      NaN    F              76  LA LIBERTAD         0.0   \n45795                      NaN    F              20         LIMA         0.0   \n45796                      0.0    M              23        PIURA         0.0   \n45797                      0.0    M             125        PASCO         0.0   \n\n       SOW_BCO_SEMESTRAL  \n45788                0.0  \n45789                0.0  \n45790                0.0  \n45791                0.0  \n45792                0.0  \n45793                0.0  \n45794                0.0  \n45795                0.0  \n45796                0.0  \n45797                0.0  ",
      "text/html": "<div>\n<style scoped>\n    .dataframe tbody tr th:only-of-type {\n        vertical-align: middle;\n    }\n\n    .dataframe tbody tr th {\n        vertical-align: top;\n    }\n\n    .dataframe thead th {\n        text-align: right;\n    }\n</style>\n<table border=\"1\" class=\"dataframe\">\n  <thead>\n    <tr style=\"text-align: right;\">\n      <th></th>\n      <th>MES_T0</th>\n      <th>VENTA_SEGURO</th>\n      <th>NUM_TC_TOTAL_T2</th>\n      <th>SALDO_BCO_T2</th>\n      <th>LINEA_BCO_T2</th>\n      <th>USO_LINEA_BCO_T2</th>\n      <th>Nro_CTa_Ahorro_Bco_T1</th>\n      <th>Ahorro_Sldo_Bco_T1</th>\n      <th>monto_ope_t2</th>\n      <th>PROM_ANUAL_MTO_OPERA</th>\n      <th>MAX_MTO_OPERA_Anual</th>\n      <th>Ratio_HospvsMtoTotal_t2</th>\n      <th>SEXO</th>\n      <th>ANTIGUEDAD_MES</th>\n      <th>DEPARTAMENTO</th>\n      <th>SOW_BCO_T2</th>\n      <th>SOW_BCO_SEMESTRAL</th>\n    </tr>\n  </thead>\n  <tbody>\n    <tr>\n      <th>45788</th>\n      <td>201505</td>\n      <td>0</td>\n      <td>4.0</td>\n      <td>0.0</td>\n      <td>0.0</td>\n      <td>0.0</td>\n      <td>0.0</td>\n      <td>0.0</td>\n      <td>1054.41</td>\n      <td>688.975000</td>\n      <td>1054.41</td>\n      <td>NaN</td>\n      <td>F</td>\n      <td>105</td>\n      <td>LIMA</td>\n      <td>0.0</td>\n      <td>0.0</td>\n    </tr>\n    <tr>\n      <th>45789</th>\n      <td>201505</td>\n      <td>0</td>\n      <td>1.0</td>\n      <td>0.0</td>\n      <td>0.0</td>\n      <td>0.0</td>\n      <td>2.0</td>\n      <td>8217.0</td>\n      <td>0.00</td>\n      <td>681.600000</td>\n      <td>1337.00</td>\n      <td>0.0</td>\n      <td>M</td>\n      <td>31</td>\n      <td>ANCASH</td>\n      <td>0.0</td>\n      <td>0.0</td>\n    </tr>\n    <tr>\n      <th>45790</th>\n      <td>201505</td>\n      <td>0</td>\n      <td>2.0</td>\n      <td>0.0</td>\n      <td>0.0</td>\n      <td>0.0</td>\n      <td>0.0</td>\n      <td>0.0</td>\n      <td>810.00</td>\n      <td>810.000000</td>\n      <td>810.00</td>\n      <td>NaN</td>\n      <td>M</td>\n      <td>226</td>\n      <td>LIMA</td>\n      <td>0.0</td>\n      <td>0.0</td>\n    </tr>\n    <tr>\n      <th>45791</th>\n      <td>201506</td>\n      <td>0</td>\n      <td>1.0</td>\n      <td>0.0</td>\n      <td>0.0</td>\n      <td>0.0</td>\n      <td>2.0</td>\n      <td>9261.0</td>\n      <td>4244.19</td>\n      <td>3466.162500</td>\n      <td>15419.30</td>\n      <td>0.0</td>\n      <td>F</td>\n      <td>204</td>\n      <td>UCAYALI</td>\n      <td>0.0</td>\n      <td>0.0</td>\n    </tr>\n    <tr>\n      <th>45792</th>\n      <td>201505</td>\n      <td>0</td>\n      <td>2.0</td>\n      <td>0.0</td>\n      <td>12000.0</td>\n      <td>0.0</td>\n      <td>2.0</td>\n      <td>804.0</td>\n      <td>277.20</td>\n      <td>237.600000</td>\n      <td>277.20</td>\n      <td>NaN</td>\n      <td>M</td>\n      <td>8</td>\n      <td>LA LIBERTAD</td>\n      <td>0.0</td>\n      <td>0.0</td>\n    </tr>\n    <tr>\n      <th>45793</th>\n      <td>201505</td>\n      <td>0</td>\n      <td>2.0</td>\n      <td>0.0</td>\n      <td>0.0</td>\n      <td>0.0</td>\n      <td>NaN</td>\n      <td>NaN</td>\n      <td>NaN</td>\n      <td>NaN</td>\n      <td>NaN</td>\n      <td>0.0</td>\n      <td>F</td>\n      <td>4</td>\n      <td>LIMA</td>\n      <td>0.0</td>\n      <td>0.0</td>\n    </tr>\n    <tr>\n      <th>45794</th>\n      <td>201505</td>\n      <td>0</td>\n      <td>NaN</td>\n      <td>NaN</td>\n      <td>NaN</td>\n      <td>NaN</td>\n      <td>2.0</td>\n      <td>6189.0</td>\n      <td>1314.10</td>\n      <td>1314.100000</td>\n      <td>1314.10</td>\n      <td>NaN</td>\n      <td>F</td>\n      <td>76</td>\n      <td>LA LIBERTAD</td>\n      <td>0.0</td>\n      <td>0.0</td>\n    </tr>\n    <tr>\n      <th>45795</th>\n      <td>201506</td>\n      <td>0</td>\n      <td>NaN</td>\n      <td>NaN</td>\n      <td>NaN</td>\n      <td>NaN</td>\n      <td>1.0</td>\n      <td>138.0</td>\n      <td>36.00</td>\n      <td>73.114285</td>\n      <td>220.00</td>\n      <td>NaN</td>\n      <td>F</td>\n      <td>20</td>\n      <td>LIMA</td>\n      <td>0.0</td>\n      <td>0.0</td>\n    </tr>\n    <tr>\n      <th>45796</th>\n      <td>201506</td>\n      <td>0</td>\n      <td>NaN</td>\n      <td>NaN</td>\n      <td>NaN</td>\n      <td>NaN</td>\n      <td>0.0</td>\n      <td>0.0</td>\n      <td>0.00</td>\n      <td>299.468750</td>\n      <td>830.00</td>\n      <td>0.0</td>\n      <td>M</td>\n      <td>23</td>\n      <td>PIURA</td>\n      <td>0.0</td>\n      <td>0.0</td>\n    </tr>\n    <tr>\n      <th>45797</th>\n      <td>201506</td>\n      <td>0</td>\n      <td>1.0</td>\n      <td>0.0</td>\n      <td>0.0</td>\n      <td>0.0</td>\n      <td>6.0</td>\n      <td>2762.0</td>\n      <td>0.00</td>\n      <td>780.000000</td>\n      <td>780.00</td>\n      <td>0.0</td>\n      <td>M</td>\n      <td>125</td>\n      <td>PASCO</td>\n      <td>0.0</td>\n      <td>0.0</td>\n    </tr>\n  </tbody>\n</table>\n</div>"
     },
     "execution_count": 9,
     "metadata": {},
     "output_type": "execute_result"
    }
   ],
   "source": [
    "df.tail(10)"
   ],
   "metadata": {
    "collapsed": false,
    "ExecuteTime": {
     "end_time": "2023-07-16T02:53:51.714861600Z",
     "start_time": "2023-07-16T02:53:51.673657100Z"
    }
   }
  },
  {
   "cell_type": "code",
   "execution_count": 10,
   "outputs": [
    {
     "data": {
      "text/plain": "MES_T0                     False\nVENTA_SEGURO               False\nNUM_TC_TOTAL_T2             True\nSALDO_BCO_T2                True\nLINEA_BCO_T2                True\nUSO_LINEA_BCO_T2            True\nNro_CTa_Ahorro_Bco_T1       True\nAhorro_Sldo_Bco_T1          True\nmonto_ope_t2                True\nPROM_ANUAL_MTO_OPERA        True\nMAX_MTO_OPERA_Anual         True\nRatio_HospvsMtoTotal_t2     True\nSEXO                       False\nANTIGUEDAD_MES             False\nDEPARTAMENTO               False\nSOW_BCO_T2                 False\nSOW_BCO_SEMESTRAL          False\ndtype: bool"
     },
     "execution_count": 10,
     "metadata": {},
     "output_type": "execute_result"
    }
   ],
   "source": [
    "df.isnull().any()"
   ],
   "metadata": {
    "collapsed": false,
    "ExecuteTime": {
     "end_time": "2023-07-16T02:54:02.919051400Z",
     "start_time": "2023-07-16T02:54:02.871450100Z"
    }
   }
  },
  {
   "cell_type": "code",
   "execution_count": 12,
   "outputs": [
    {
     "data": {
      "text/plain": "     MES_T0  VENTA_SEGURO  NUM_TC_TOTAL_T2  SALDO_BCO_T2  LINEA_BCO_T2  \\\n0    201506             0              3.0           0.0        2300.0   \n1    201506             0              2.0        3215.0        3500.0   \n2    201506             0              1.0        3169.0        5000.0   \n3    201506             1              1.0        6495.0        8450.0   \n4    201506             0              NaN           NaN           NaN   \n..      ...           ...              ...           ...           ...   \n995  201506             0              1.0        4357.0        4600.0   \n996  201506             0              NaN           NaN           NaN   \n997  201506             0              NaN           NaN           NaN   \n998  201506             0              1.0           0.0           0.0   \n999  201506             0              4.0           0.0           0.0   \n\n     USO_LINEA_BCO_T2  Nro_CTa_Ahorro_Bco_T1  Ahorro_Sldo_Bco_T1  \\\n0            0.000000                    0.0                 0.0   \n1            0.918571                    0.0                 0.0   \n2            0.633800                    0.0                 0.0   \n3            0.768639                    2.0               505.0   \n4                 NaN                    0.0                 0.0   \n..                ...                    ...                 ...   \n995          0.947173                    0.0                 0.0   \n996               NaN                    1.0               545.0   \n997               NaN                    0.0                 0.0   \n998          0.000000                    0.0                 0.0   \n999          0.000000                    2.0               436.0   \n\n     monto_ope_t2  PROM_ANUAL_MTO_OPERA  MAX_MTO_OPERA_Anual  \\\n0           15.00             18.644444                52.80   \n1          548.98           2632.020000              5709.24   \n2            0.00           4999.000000              4999.00   \n3         2137.94           4900.191666             11206.80   \n4           12.37             12.370000                12.37   \n..            ...                   ...                  ...   \n995        187.58            758.380833              1326.14   \n996        104.00            104.000000               104.00   \n997        414.64            243.107500               550.00   \n998           NaN                   NaN                  NaN   \n999        108.52            166.578333               626.52   \n\n     Ratio_HospvsMtoTotal_t2 SEXO  ANTIGUEDAD_MES DEPARTAMENTO  SOW_BCO_T2  \\\n0                        NaN    M              58         LIMA    0.000000   \n1                        NaN    M              69        JUNIN    0.816134   \n2                   0.000000    M              16       CALLAO    1.000000   \n3                        NaN    F              62         LIMA    0.413831   \n4                        NaN    F               5     AREQUIPA    0.000000   \n..                       ...  ...             ...          ...         ...   \n995                      NaN    M              25         LIMA    0.194025   \n996                 1.000000    F              55        CUSCO    0.000000   \n997                      NaN    F              24         LIMA    1.000000   \n998                 0.000000    M              50     AREQUIPA    0.000000   \n999                 0.202727    M              94  LA LIBERTAD    0.000000   \n\n     SOW_BCO_SEMESTRAL  \n0             0.000000  \n1             0.930867  \n2             1.000000  \n3             0.505504  \n4             0.000000  \n..                 ...  \n995           0.180906  \n996           0.000000  \n997           1.000000  \n998           0.000000  \n999           0.000000  \n\n[1000 rows x 17 columns]",
      "text/html": "<div>\n<style scoped>\n    .dataframe tbody tr th:only-of-type {\n        vertical-align: middle;\n    }\n\n    .dataframe tbody tr th {\n        vertical-align: top;\n    }\n\n    .dataframe thead th {\n        text-align: right;\n    }\n</style>\n<table border=\"1\" class=\"dataframe\">\n  <thead>\n    <tr style=\"text-align: right;\">\n      <th></th>\n      <th>MES_T0</th>\n      <th>VENTA_SEGURO</th>\n      <th>NUM_TC_TOTAL_T2</th>\n      <th>SALDO_BCO_T2</th>\n      <th>LINEA_BCO_T2</th>\n      <th>USO_LINEA_BCO_T2</th>\n      <th>Nro_CTa_Ahorro_Bco_T1</th>\n      <th>Ahorro_Sldo_Bco_T1</th>\n      <th>monto_ope_t2</th>\n      <th>PROM_ANUAL_MTO_OPERA</th>\n      <th>MAX_MTO_OPERA_Anual</th>\n      <th>Ratio_HospvsMtoTotal_t2</th>\n      <th>SEXO</th>\n      <th>ANTIGUEDAD_MES</th>\n      <th>DEPARTAMENTO</th>\n      <th>SOW_BCO_T2</th>\n      <th>SOW_BCO_SEMESTRAL</th>\n    </tr>\n  </thead>\n  <tbody>\n    <tr>\n      <th>0</th>\n      <td>201506</td>\n      <td>0</td>\n      <td>3.0</td>\n      <td>0.0</td>\n      <td>2300.0</td>\n      <td>0.000000</td>\n      <td>0.0</td>\n      <td>0.0</td>\n      <td>15.00</td>\n      <td>18.644444</td>\n      <td>52.80</td>\n      <td>NaN</td>\n      <td>M</td>\n      <td>58</td>\n      <td>LIMA</td>\n      <td>0.000000</td>\n      <td>0.000000</td>\n    </tr>\n    <tr>\n      <th>1</th>\n      <td>201506</td>\n      <td>0</td>\n      <td>2.0</td>\n      <td>3215.0</td>\n      <td>3500.0</td>\n      <td>0.918571</td>\n      <td>0.0</td>\n      <td>0.0</td>\n      <td>548.98</td>\n      <td>2632.020000</td>\n      <td>5709.24</td>\n      <td>NaN</td>\n      <td>M</td>\n      <td>69</td>\n      <td>JUNIN</td>\n      <td>0.816134</td>\n      <td>0.930867</td>\n    </tr>\n    <tr>\n      <th>2</th>\n      <td>201506</td>\n      <td>0</td>\n      <td>1.0</td>\n      <td>3169.0</td>\n      <td>5000.0</td>\n      <td>0.633800</td>\n      <td>0.0</td>\n      <td>0.0</td>\n      <td>0.00</td>\n      <td>4999.000000</td>\n      <td>4999.00</td>\n      <td>0.000000</td>\n      <td>M</td>\n      <td>16</td>\n      <td>CALLAO</td>\n      <td>1.000000</td>\n      <td>1.000000</td>\n    </tr>\n    <tr>\n      <th>3</th>\n      <td>201506</td>\n      <td>1</td>\n      <td>1.0</td>\n      <td>6495.0</td>\n      <td>8450.0</td>\n      <td>0.768639</td>\n      <td>2.0</td>\n      <td>505.0</td>\n      <td>2137.94</td>\n      <td>4900.191666</td>\n      <td>11206.80</td>\n      <td>NaN</td>\n      <td>F</td>\n      <td>62</td>\n      <td>LIMA</td>\n      <td>0.413831</td>\n      <td>0.505504</td>\n    </tr>\n    <tr>\n      <th>4</th>\n      <td>201506</td>\n      <td>0</td>\n      <td>NaN</td>\n      <td>NaN</td>\n      <td>NaN</td>\n      <td>NaN</td>\n      <td>0.0</td>\n      <td>0.0</td>\n      <td>12.37</td>\n      <td>12.370000</td>\n      <td>12.37</td>\n      <td>NaN</td>\n      <td>F</td>\n      <td>5</td>\n      <td>AREQUIPA</td>\n      <td>0.000000</td>\n      <td>0.000000</td>\n    </tr>\n    <tr>\n      <th>...</th>\n      <td>...</td>\n      <td>...</td>\n      <td>...</td>\n      <td>...</td>\n      <td>...</td>\n      <td>...</td>\n      <td>...</td>\n      <td>...</td>\n      <td>...</td>\n      <td>...</td>\n      <td>...</td>\n      <td>...</td>\n      <td>...</td>\n      <td>...</td>\n      <td>...</td>\n      <td>...</td>\n      <td>...</td>\n    </tr>\n    <tr>\n      <th>995</th>\n      <td>201506</td>\n      <td>0</td>\n      <td>1.0</td>\n      <td>4357.0</td>\n      <td>4600.0</td>\n      <td>0.947173</td>\n      <td>0.0</td>\n      <td>0.0</td>\n      <td>187.58</td>\n      <td>758.380833</td>\n      <td>1326.14</td>\n      <td>NaN</td>\n      <td>M</td>\n      <td>25</td>\n      <td>LIMA</td>\n      <td>0.194025</td>\n      <td>0.180906</td>\n    </tr>\n    <tr>\n      <th>996</th>\n      <td>201506</td>\n      <td>0</td>\n      <td>NaN</td>\n      <td>NaN</td>\n      <td>NaN</td>\n      <td>NaN</td>\n      <td>1.0</td>\n      <td>545.0</td>\n      <td>104.00</td>\n      <td>104.000000</td>\n      <td>104.00</td>\n      <td>1.000000</td>\n      <td>F</td>\n      <td>55</td>\n      <td>CUSCO</td>\n      <td>0.000000</td>\n      <td>0.000000</td>\n    </tr>\n    <tr>\n      <th>997</th>\n      <td>201506</td>\n      <td>0</td>\n      <td>NaN</td>\n      <td>NaN</td>\n      <td>NaN</td>\n      <td>NaN</td>\n      <td>0.0</td>\n      <td>0.0</td>\n      <td>414.64</td>\n      <td>243.107500</td>\n      <td>550.00</td>\n      <td>NaN</td>\n      <td>F</td>\n      <td>24</td>\n      <td>LIMA</td>\n      <td>1.000000</td>\n      <td>1.000000</td>\n    </tr>\n    <tr>\n      <th>998</th>\n      <td>201506</td>\n      <td>0</td>\n      <td>1.0</td>\n      <td>0.0</td>\n      <td>0.0</td>\n      <td>0.000000</td>\n      <td>0.0</td>\n      <td>0.0</td>\n      <td>NaN</td>\n      <td>NaN</td>\n      <td>NaN</td>\n      <td>0.000000</td>\n      <td>M</td>\n      <td>50</td>\n      <td>AREQUIPA</td>\n      <td>0.000000</td>\n      <td>0.000000</td>\n    </tr>\n    <tr>\n      <th>999</th>\n      <td>201506</td>\n      <td>0</td>\n      <td>4.0</td>\n      <td>0.0</td>\n      <td>0.0</td>\n      <td>0.000000</td>\n      <td>2.0</td>\n      <td>436.0</td>\n      <td>108.52</td>\n      <td>166.578333</td>\n      <td>626.52</td>\n      <td>0.202727</td>\n      <td>M</td>\n      <td>94</td>\n      <td>LA LIBERTAD</td>\n      <td>0.000000</td>\n      <td>0.000000</td>\n    </tr>\n  </tbody>\n</table>\n<p>1000 rows × 17 columns</p>\n</div>"
     },
     "execution_count": 12,
     "metadata": {},
     "output_type": "execute_result"
    }
   ],
   "source": [
    "primeras_filas = df.head(1000)\n",
    "primeras_filas"
   ],
   "metadata": {
    "collapsed": false,
    "ExecuteTime": {
     "end_time": "2023-07-16T02:54:23.048063100Z",
     "start_time": "2023-07-16T02:54:23.007126300Z"
    }
   }
  },
  {
   "cell_type": "code",
   "execution_count": null,
   "outputs": [],
   "source": [],
   "metadata": {
    "collapsed": false
   }
  }
 ],
 "metadata": {
  "kernelspec": {
   "display_name": "Python 3",
   "language": "python",
   "name": "python3"
  },
  "language_info": {
   "codemirror_mode": {
    "name": "ipython",
    "version": 2
   },
   "file_extension": ".py",
   "mimetype": "text/x-python",
   "name": "python",
   "nbconvert_exporter": "python",
   "pygments_lexer": "ipython2",
   "version": "2.7.6"
  }
 },
 "nbformat": 4,
 "nbformat_minor": 0
}
